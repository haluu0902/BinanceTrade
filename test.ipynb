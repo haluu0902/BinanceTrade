{
 "cells": [
  {
   "cell_type": "code",
   "execution_count": 9,
   "metadata": {},
   "outputs": [],
   "source": [
    "from binance import Client, ThreadedWebsocketManager, ThreadedDepthCacheManager\n",
    "from binance.enums import *\n",
    "apiKey, apiSecret = open('key','r').read().replace('\\n','').split('|')\n",
    "client = Client(apiKey, apiSecret)\n"
   ]
  },
  {
   "cell_type": "code",
   "execution_count": 10,
   "metadata": {},
   "outputs": [
    {
     "data": {
      "text/plain": [
       "<binance.client.Client at 0x1b0dcd58cd0>"
      ]
     },
     "execution_count": 10,
     "metadata": {},
     "output_type": "execute_result"
    }
   ],
   "source": [
    "client"
   ]
  },
  {
   "cell_type": "code",
   "execution_count": null,
   "metadata": {},
   "outputs": [],
   "source": [
    "import decimal\n",
    "\n",
    "info = client.get_symbol_info('BTCUSDT')\n",
    "d = decimal.Decimal(str(float(info['filters'][2]['minQty'])))\n",
    "d.as_tuple().exponent*-1"
   ]
  },
  {
   "cell_type": "code",
   "execution_count": null,
   "metadata": {},
   "outputs": [],
   "source": [
    "info"
   ]
  },
  {
   "cell_type": "code",
   "execution_count": 30,
   "metadata": {},
   "outputs": [],
   "source": [
    "import json\n",
    "order = []\n",
    "with open(\"./Data/history.json\", \"w+\") as history:\n",
    "    json.dump(order, history)"
   ]
  },
  {
   "cell_type": "code",
   "execution_count": 31,
   "metadata": {},
   "outputs": [],
   "source": [
    "with open(\"./Data/history.json\", \"r\") as history:\n",
    "    data = json.load(history)\n"
   ]
  },
  {
   "cell_type": "code",
   "execution_count": 33,
   "metadata": {},
   "outputs": [
    {
     "data": {
      "text/plain": [
       "True"
      ]
     },
     "execution_count": 33,
     "metadata": {},
     "output_type": "execute_result"
    }
   ],
   "source": [
    "data == []"
   ]
  },
  {
   "cell_type": "code",
   "execution_count": null,
   "metadata": {},
   "outputs": [],
   "source": []
  },
  {
   "cell_type": "code",
   "execution_count": 14,
   "metadata": {},
   "outputs": [
    {
     "ename": "BinanceAPIException",
     "evalue": "APIError(code=-2010): Account has insufficient balance for requested action.",
     "output_type": "error",
     "traceback": [
      "\u001b[1;31m---------------------------------------------------------------------------\u001b[0m",
      "\u001b[1;31mBinanceAPIException\u001b[0m                       Traceback (most recent call last)",
      "\u001b[1;32md:\\Code\\Selenium\\Binance-Tool\\test.ipynb Cell 6\u001b[0m in \u001b[0;36m<cell line: 1>\u001b[1;34m()\u001b[0m\n\u001b[1;32m----> <a href='vscode-notebook-cell:/d%3A/Code/Selenium/Binance-Tool/test.ipynb#W4sZmlsZQ%3D%3D?line=0'>1</a>\u001b[0m order \u001b[39m=\u001b[39m client\u001b[39m.\u001b[39;49mcreate_order(\n\u001b[0;32m      <a href='vscode-notebook-cell:/d%3A/Code/Selenium/Binance-Tool/test.ipynb#W4sZmlsZQ%3D%3D?line=1'>2</a>\u001b[0m     symbol\u001b[39m=\u001b[39;49m\u001b[39m'\u001b[39;49m\u001b[39mBTCUSDT\u001b[39;49m\u001b[39m'\u001b[39;49m,\n\u001b[0;32m      <a href='vscode-notebook-cell:/d%3A/Code/Selenium/Binance-Tool/test.ipynb#W4sZmlsZQ%3D%3D?line=2'>3</a>\u001b[0m     side\u001b[39m=\u001b[39;49mSIDE_BUY,\n\u001b[0;32m      <a href='vscode-notebook-cell:/d%3A/Code/Selenium/Binance-Tool/test.ipynb#W4sZmlsZQ%3D%3D?line=3'>4</a>\u001b[0m     \u001b[39mtype\u001b[39;49m\u001b[39m=\u001b[39;49mORDER_TYPE_LIMIT,\n\u001b[0;32m      <a href='vscode-notebook-cell:/d%3A/Code/Selenium/Binance-Tool/test.ipynb#W4sZmlsZQ%3D%3D?line=4'>5</a>\u001b[0m     timeInForce\u001b[39m=\u001b[39;49mTIME_IN_FORCE_FOK,\n\u001b[0;32m      <a href='vscode-notebook-cell:/d%3A/Code/Selenium/Binance-Tool/test.ipynb#W4sZmlsZQ%3D%3D?line=5'>6</a>\u001b[0m     quantity\u001b[39m=\u001b[39;49m\u001b[39m0.00047\u001b[39;49m,\n\u001b[0;32m      <a href='vscode-notebook-cell:/d%3A/Code/Selenium/Binance-Tool/test.ipynb#W4sZmlsZQ%3D%3D?line=6'>7</a>\u001b[0m     price\u001b[39m=\u001b[39;49m\u001b[39m'\u001b[39;49m\u001b[39m21500\u001b[39;49m\u001b[39m'\u001b[39;49m)\n",
      "File \u001b[1;32mc:\\Users\\PC\\anaconda3\\lib\\site-packages\\binance\\client.py:1397\u001b[0m, in \u001b[0;36mClient.create_order\u001b[1;34m(self, **params)\u001b[0m\n\u001b[0;32m   1280\u001b[0m \u001b[39mdef\u001b[39;00m \u001b[39mcreate_order\u001b[39m(\u001b[39mself\u001b[39m, \u001b[39m*\u001b[39m\u001b[39m*\u001b[39mparams):\n\u001b[0;32m   1281\u001b[0m     \u001b[39m\"\"\"Send in a new order\u001b[39;00m\n\u001b[0;32m   1282\u001b[0m \n\u001b[0;32m   1283\u001b[0m \u001b[39m    Any order with an icebergQty MUST have timeInForce set to GTC.\u001b[39;00m\n\u001b[1;32m   (...)\u001b[0m\n\u001b[0;32m   1395\u001b[0m \n\u001b[0;32m   1396\u001b[0m \u001b[39m    \"\"\"\u001b[39;00m\n\u001b[1;32m-> 1397\u001b[0m     \u001b[39mreturn\u001b[39;00m \u001b[39mself\u001b[39;49m\u001b[39m.\u001b[39;49m_post(\u001b[39m'\u001b[39;49m\u001b[39morder\u001b[39;49m\u001b[39m'\u001b[39;49m, \u001b[39mTrue\u001b[39;49;00m, data\u001b[39m=\u001b[39;49mparams)\n",
      "File \u001b[1;32mc:\\Users\\PC\\anaconda3\\lib\\site-packages\\binance\\client.py:374\u001b[0m, in \u001b[0;36mClient._post\u001b[1;34m(self, path, signed, version, **kwargs)\u001b[0m\n\u001b[0;32m    373\u001b[0m \u001b[39mdef\u001b[39;00m \u001b[39m_post\u001b[39m(\u001b[39mself\u001b[39m, path, signed\u001b[39m=\u001b[39m\u001b[39mFalse\u001b[39;00m, version\u001b[39m=\u001b[39mBaseClient\u001b[39m.\u001b[39mPUBLIC_API_VERSION, \u001b[39m*\u001b[39m\u001b[39m*\u001b[39mkwargs) \u001b[39m-\u001b[39m\u001b[39m>\u001b[39m Dict:\n\u001b[1;32m--> 374\u001b[0m     \u001b[39mreturn\u001b[39;00m \u001b[39mself\u001b[39m\u001b[39m.\u001b[39m_request_api(\u001b[39m'\u001b[39m\u001b[39mpost\u001b[39m\u001b[39m'\u001b[39m, path, signed, version, \u001b[39m*\u001b[39m\u001b[39m*\u001b[39mkwargs)\n",
      "File \u001b[1;32mc:\\Users\\PC\\anaconda3\\lib\\site-packages\\binance\\client.py:334\u001b[0m, in \u001b[0;36mClient._request_api\u001b[1;34m(self, method, path, signed, version, **kwargs)\u001b[0m\n\u001b[0;32m    330\u001b[0m \u001b[39mdef\u001b[39;00m \u001b[39m_request_api\u001b[39m(\n\u001b[0;32m    331\u001b[0m     \u001b[39mself\u001b[39m, method, path: \u001b[39mstr\u001b[39m, signed: \u001b[39mbool\u001b[39m \u001b[39m=\u001b[39m \u001b[39mFalse\u001b[39;00m, version\u001b[39m=\u001b[39mBaseClient\u001b[39m.\u001b[39mPUBLIC_API_VERSION, \u001b[39m*\u001b[39m\u001b[39m*\u001b[39mkwargs\n\u001b[0;32m    332\u001b[0m ):\n\u001b[0;32m    333\u001b[0m     uri \u001b[39m=\u001b[39m \u001b[39mself\u001b[39m\u001b[39m.\u001b[39m_create_api_uri(path, signed, version)\n\u001b[1;32m--> 334\u001b[0m     \u001b[39mreturn\u001b[39;00m \u001b[39mself\u001b[39m\u001b[39m.\u001b[39m_request(method, uri, signed, \u001b[39m*\u001b[39m\u001b[39m*\u001b[39mkwargs)\n",
      "File \u001b[1;32mc:\\Users\\PC\\anaconda3\\lib\\site-packages\\binance\\client.py:315\u001b[0m, in \u001b[0;36mClient._request\u001b[1;34m(self, method, uri, signed, force_params, **kwargs)\u001b[0m\n\u001b[0;32m    312\u001b[0m kwargs \u001b[39m=\u001b[39m \u001b[39mself\u001b[39m\u001b[39m.\u001b[39m_get_request_kwargs(method, signed, force_params, \u001b[39m*\u001b[39m\u001b[39m*\u001b[39mkwargs)\n\u001b[0;32m    314\u001b[0m \u001b[39mself\u001b[39m\u001b[39m.\u001b[39mresponse \u001b[39m=\u001b[39m \u001b[39mgetattr\u001b[39m(\u001b[39mself\u001b[39m\u001b[39m.\u001b[39msession, method)(uri, \u001b[39m*\u001b[39m\u001b[39m*\u001b[39mkwargs)\n\u001b[1;32m--> 315\u001b[0m \u001b[39mreturn\u001b[39;00m \u001b[39mself\u001b[39;49m\u001b[39m.\u001b[39;49m_handle_response(\u001b[39mself\u001b[39;49m\u001b[39m.\u001b[39;49mresponse)\n",
      "File \u001b[1;32mc:\\Users\\PC\\anaconda3\\lib\\site-packages\\binance\\client.py:324\u001b[0m, in \u001b[0;36mClient._handle_response\u001b[1;34m(response)\u001b[0m\n\u001b[0;32m    319\u001b[0m \u001b[39m\"\"\"Internal helper for handling API responses from the Binance server.\u001b[39;00m\n\u001b[0;32m    320\u001b[0m \u001b[39mRaises the appropriate exceptions when necessary; otherwise, returns the\u001b[39;00m\n\u001b[0;32m    321\u001b[0m \u001b[39mresponse.\u001b[39;00m\n\u001b[0;32m    322\u001b[0m \u001b[39m\"\"\"\u001b[39;00m\n\u001b[0;32m    323\u001b[0m \u001b[39mif\u001b[39;00m \u001b[39mnot\u001b[39;00m (\u001b[39m200\u001b[39m \u001b[39m<\u001b[39m\u001b[39m=\u001b[39m response\u001b[39m.\u001b[39mstatus_code \u001b[39m<\u001b[39m \u001b[39m300\u001b[39m):\n\u001b[1;32m--> 324\u001b[0m     \u001b[39mraise\u001b[39;00m BinanceAPIException(response, response\u001b[39m.\u001b[39mstatus_code, response\u001b[39m.\u001b[39mtext)\n\u001b[0;32m    325\u001b[0m \u001b[39mtry\u001b[39;00m:\n\u001b[0;32m    326\u001b[0m     \u001b[39mreturn\u001b[39;00m response\u001b[39m.\u001b[39mjson()\n",
      "\u001b[1;31mBinanceAPIException\u001b[0m: APIError(code=-2010): Account has insufficient balance for requested action."
     ]
    }
   ],
   "source": [
    "order = client.create_order(\n",
    "    symbol='BTCUSDT',\n",
    "    side=SIDE_BUY,\n",
    "    type=ORDER_TYPE_LIMIT,\n",
    "    timeInForce=TIME_IN_FORCE_FOK,\n",
    "    quantity=0.00047,\n",
    "    price='21500')"
   ]
  },
  {
   "cell_type": "code",
   "execution_count": null,
   "metadata": {},
   "outputs": [],
   "source": [
    "order = client.create_order(\n",
    "    symbol='BTCUSDT',\n",
    "    side=\"SELL\",\n",
    "    type=ORDER_TYPE_LIMIT,\n",
    "    timeInForce=TIME_IN_FORCE_FOK,\n",
    "    quantity=0.00047,\n",
    "    price='21300')"
   ]
  },
  {
   "cell_type": "code",
   "execution_count": null,
   "metadata": {},
   "outputs": [],
   "source": [
    "order"
   ]
  },
  {
   "cell_type": "code",
   "execution_count": null,
   "metadata": {},
   "outputs": [],
   "source": [
    "order[\"fills\"][0]"
   ]
  },
  {
   "cell_type": "code",
   "execution_count": null,
   "metadata": {},
   "outputs": [],
   "source": [
    "client.get_historical_klines(\"BTCUSDT\", \"1M\", \"2 months ago UTC\")"
   ]
  },
  {
   "cell_type": "code",
   "execution_count": null,
   "metadata": {},
   "outputs": [],
   "source": [
    "client.get_symbol_ticker(symbol=\"BTCUSDT\")"
   ]
  },
  {
   "cell_type": "code",
   "execution_count": null,
   "metadata": {},
   "outputs": [],
   "source": [
    "#all pairs\n",
    "raw = client.get_margin_all_pairs()\n",
    "pairs = []\n",
    "for r in raw:\n",
    "    pairs.append(r[\"symbol\"])"
   ]
  },
  {
   "cell_type": "code",
   "execution_count": null,
   "metadata": {},
   "outputs": [],
   "source": [
    "print(pairs)"
   ]
  },
  {
   "cell_type": "code",
   "execution_count": null,
   "metadata": {},
   "outputs": [],
   "source": [
    "pairs[0]"
   ]
  },
  {
   "cell_type": "code",
   "execution_count": 13,
   "metadata": {},
   "outputs": [
    {
     "data": {
      "text/plain": [
       "{}"
      ]
     },
     "execution_count": 13,
     "metadata": {},
     "output_type": "execute_result"
    }
   ],
   "source": [
    "order = client.create_test_order(\n",
    "    symbol='BNBBTC',\n",
    "    side=Client.SIDE_BUY,\n",
    "    type=Client.ORDER_TYPE_MARKET,\n",
    "    quantity=100)\n",
    "\n",
    "order"
   ]
  },
  {
   "cell_type": "code",
   "execution_count": null,
   "metadata": {},
   "outputs": [],
   "source": [
    "\n",
    "# get market depth\n",
    "depth = client.get_order_book(symbol='BNBBTC')\n",
    "# place a test market buy order, to place an actual order use the create_order function\n",
    "order = client.create_test_order(\n",
    "    symbol='BNBBTC',\n",
    "    side=Client.SIDE_BUY,\n",
    "    type=Client.ORDER_TYPE_MARKET,\n",
    "    quantity=100)\n",
    "\n",
    "# get all symbol prices\n",
    "prices = client.get_all_tickers()\n",
    "\n",
    "# withdraw 100 ETH\n",
    "# check docs for assumptions around withdrawals\n",
    "from binance.exceptions import BinanceAPIException\n",
    "try:\n",
    "    result = client.withdraw(\n",
    "        asset='ETH',\n",
    "        address='<eth_address>',\n",
    "        amount=100)\n",
    "except BinanceAPIException as e:\n",
    "    print(e)\n",
    "else:\n",
    "    print(\"Success\")\n",
    "\n",
    "# fetch list of withdrawals\n",
    "withdraws = client.get_withdraw_history()\n",
    "\n",
    "# fetch list of ETH withdrawals\n",
    "eth_withdraws = client.get_withdraw_history(coin='ETH')\n",
    "\n",
    "# get a deposit address for BTC\n",
    "address = client.get_deposit_address(coin='BTC')\n",
    "\n",
    "# get historical kline data from any date range\n",
    "\n",
    "# fetch 1 minute klines for the last day up until now\n",
    "klines = client.get_historical_klines(\"BNBBTC\", Client.KLINE_INTERVAL_1MINUTE, \"1 day ago UTC\")\n",
    "\n",
    "# fetch 30 minute klines for the last month of 2017\n",
    "klines = client.get_historical_klines(\"ETHBTC\", Client.KLINE_INTERVAL_30MINUTE, \"1 Dec, 2017\", \"1 Jan, 2018\")\n",
    "\n",
    "# fetch weekly klines since it listed\n",
    "klines = client.get_historical_klines(\"NEOBTC\", Client.KLINE_INTERVAL_1WEEK, \"1 Jan, 2017\")\n",
    "\n",
    "# socket manager using threads\n",
    "twm = ThreadedWebsocketManager()\n",
    "twm.start()\n",
    "\n",
    "# depth cache manager using threads\n",
    "dcm = ThreadedDepthCacheManager()\n",
    "dcm.start()\n",
    "\n",
    "def handle_socket_message(msg):\n",
    "    print(f\"message type: {msg['e']}\")\n",
    "    print(msg)\n",
    "\n",
    "def handle_dcm_message(depth_cache):\n",
    "    print(f\"symbol {depth_cache.symbol}\")\n",
    "    print(\"top 5 bids\")\n",
    "    print(depth_cache.get_bids()[:5])\n",
    "    print(\"top 5 asks\")\n",
    "    print(depth_cache.get_asks()[:5])\n",
    "    print(\"last update time {}\".format(depth_cache.update_time))\n",
    "\n",
    "twm.start_kline_socket(callback=handle_socket_message, symbol='BNBBTC')\n",
    "\n",
    "dcm.start_depth_cache(callback=handle_dcm_message, symbol='ETHBTC')\n",
    "\n",
    "# replace with a current options symbol\n",
    "options_symbol = 'BTC-210430-36000-C'\n",
    "dcm.start_options_depth_cache(callback=handle_dcm_message, symbol=options_symbol)\n",
    "\n",
    "# join the threaded managers to the main thread\n",
    "twm.join()\n",
    "dcm.join()"
   ]
  }
 ],
 "metadata": {
  "kernelspec": {
   "display_name": "Python 3.9.12 ('base')",
   "language": "python",
   "name": "python3"
  },
  "language_info": {
   "codemirror_mode": {
    "name": "ipython",
    "version": 3
   },
   "file_extension": ".py",
   "mimetype": "text/x-python",
   "name": "python",
   "nbconvert_exporter": "python",
   "pygments_lexer": "ipython3",
   "version": "3.9.12"
  },
  "orig_nbformat": 4,
  "vscode": {
   "interpreter": {
    "hash": "1cca9558bc5ad879ec93cc030b157d75f18267527c60932cecaace349eef54dd"
   }
  }
 },
 "nbformat": 4,
 "nbformat_minor": 2
}
